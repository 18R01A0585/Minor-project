{
  "nbformat": 4,
  "nbformat_minor": 0,
  "metadata": {
    "colab": {
      "name": "ML-MINOR-APRIL.ipynb",
      "provenance": [],
      "collapsed_sections": [],
      "authorship_tag": "ABX9TyPBFEzezWjMH8sMnksfoIhZ",
      "include_colab_link": true
    },
    "kernelspec": {
      "name": "python3",
      "display_name": "Python 3"
    },
    "language_info": {
      "name": "python"
    }
  },
  "cells": [
    {
      "cell_type": "markdown",
      "metadata": {
        "id": "view-in-github",
        "colab_type": "text"
      },
      "source": [
        "<a href=\"https://colab.research.google.com/github/18R01A0585/basic/blob/main/ML_MINOR_APRIL.ipynb\" target=\"_parent\"><img src=\"https://colab.research.google.com/assets/colab-badge.svg\" alt=\"Open In Colab\"/></a>"
      ]
    },
    {
      "cell_type": "code",
      "metadata": {
        "colab": {
          "base_uri": "https://localhost:8080/"
        },
        "id": "PYbGRu1Kk7QX",
        "outputId": "474d95c4-e9b0-4b84-87e2-92b9090a5376"
      },
      "source": [
        "!pip install ipython-autotime\n",
        "%load_ext autotime"
      ],
      "execution_count": null,
      "outputs": [
        {
          "output_type": "stream",
          "text": [
            "Collecting ipython-autotime\n",
            "  Downloading https://files.pythonhosted.org/packages/b4/c9/b413a24f759641bc27ef98c144b590023c8038dfb8a3f09e713e9dff12c1/ipython_autotime-0.3.1-py2.py3-none-any.whl\n",
            "Requirement already satisfied: ipython in /usr/local/lib/python3.7/dist-packages (from ipython-autotime) (5.5.0)\n",
            "Requirement already satisfied: pygments in /usr/local/lib/python3.7/dist-packages (from ipython->ipython-autotime) (2.6.1)\n",
            "Requirement already satisfied: decorator in /usr/local/lib/python3.7/dist-packages (from ipython->ipython-autotime) (4.4.2)\n",
            "Requirement already satisfied: prompt-toolkit<2.0.0,>=1.0.4 in /usr/local/lib/python3.7/dist-packages (from ipython->ipython-autotime) (1.0.18)\n",
            "Requirement already satisfied: simplegeneric>0.8 in /usr/local/lib/python3.7/dist-packages (from ipython->ipython-autotime) (0.8.1)\n",
            "Requirement already satisfied: pexpect; sys_platform != \"win32\" in /usr/local/lib/python3.7/dist-packages (from ipython->ipython-autotime) (4.8.0)\n",
            "Requirement already satisfied: pickleshare in /usr/local/lib/python3.7/dist-packages (from ipython->ipython-autotime) (0.7.5)\n",
            "Requirement already satisfied: traitlets>=4.2 in /usr/local/lib/python3.7/dist-packages (from ipython->ipython-autotime) (5.0.5)\n",
            "Requirement already satisfied: setuptools>=18.5 in /usr/local/lib/python3.7/dist-packages (from ipython->ipython-autotime) (56.1.0)\n",
            "Requirement already satisfied: six>=1.9.0 in /usr/local/lib/python3.7/dist-packages (from prompt-toolkit<2.0.0,>=1.0.4->ipython->ipython-autotime) (1.15.0)\n",
            "Requirement already satisfied: wcwidth in /usr/local/lib/python3.7/dist-packages (from prompt-toolkit<2.0.0,>=1.0.4->ipython->ipython-autotime) (0.2.5)\n",
            "Requirement already satisfied: ptyprocess>=0.5 in /usr/local/lib/python3.7/dist-packages (from pexpect; sys_platform != \"win32\"->ipython->ipython-autotime) (0.7.0)\n",
            "Requirement already satisfied: ipython-genutils in /usr/local/lib/python3.7/dist-packages (from traitlets>=4.2->ipython->ipython-autotime) (0.2.0)\n",
            "Installing collected packages: ipython-autotime\n",
            "Successfully installed ipython-autotime-0.3.1\n",
            "time: 2.19 ms (started: 2021-05-22 14:22:52 +00:00)\n"
          ],
          "name": "stdout"
        }
      ]
    },
    {
      "cell_type": "code",
      "metadata": {
        "colab": {
          "base_uri": "https://localhost:8080/"
        },
        "id": "JGTnFHkYlAFd",
        "outputId": "0ec07d66-2dab-4420-d0b8-10aa4e6faa1c"
      },
      "source": [
        "!pip install bing-image-downloader"
      ],
      "execution_count": null,
      "outputs": [
        {
          "output_type": "stream",
          "text": [
            "Collecting bing-image-downloader\n",
            "  Downloading https://files.pythonhosted.org/packages/0d/bf/537a61030b84ae4cd5022d5c7b014fd9bc3ce7c02358919153a6658a61d3/bing_image_downloader-1.0.4-py3-none-any.whl\n",
            "Installing collected packages: bing-image-downloader\n",
            "Successfully installed bing-image-downloader-1.0.4\n",
            "time: 2.94 s (started: 2021-05-22 14:22:59 +00:00)\n"
          ],
          "name": "stdout"
        }
      ]
    },
    {
      "cell_type": "code",
      "metadata": {
        "colab": {
          "base_uri": "https://localhost:8080/"
        },
        "id": "QJFUUiF6lB8c",
        "outputId": "67fb0ca5-f9a1-487c-ee04-15e8d7eedae5"
      },
      "source": [
        "from bing_image_downloader import downloader\n",
        "downloader.download(\"iron man\", limit=30,  output_dir='images', adult_filter_off=True, force_replace=False, timeout=60)\n"
      ],
      "execution_count": null,
      "outputs": [
        {
          "output_type": "stream",
          "text": [
            "\n",
            "\n",
            "[!!]Indexing page: 1\n",
            "\n",
            "[%] Indexed 10 Images on Page 1.\n",
            "\n",
            "===============================================\n",
            "\n",
            "[%] Downloading Image #1 from http://images4.wikia.nocookie.net/__cb20120712032008/doblaje/es/images/5/56/Iron_Man_2_Poster.jpg\n",
            "[%] File Downloaded !\n",
            "\n",
            "[%] Downloading Image #2 from http://news.toyark.com/wp-content/uploads/sites/4/2013/02/Iron-Man-Mark-42-ARTFX-Statue-3_1360080809.jpg\n",
            "[%] File Downloaded !\n",
            "\n",
            "[%] Downloading Image #3 from http://1.bp.blogspot.com/-OtiILt9pDas/UPMzJuE4YjI/AAAAAAAAAE0/M_5vbAMH_BY/s1600/q5.jpg\n",
            "[%] File Downloaded !\n",
            "\n",
            "[%] Downloading Image #4 from http://micechat.com/wp-content/uploads/2013/06/Iron-Man-Mark-6.jpg\n",
            "[!] Issue getting: http://micechat.com/wp-content/uploads/2013/06/Iron-Man-Mark-6.jpg\n",
            "[!] Error:: HTTP Error 403: Forbidden\n",
            "[%] Downloading Image #4 from http://i1.ytimg.com/vi/5EjG-1U3wqA/maxresdefault.jpg\n",
            "[%] File Downloaded !\n",
            "\n",
            "[%] Downloading Image #5 from http://img3.wikia.nocookie.net/__cb20130912184654/marveldatabase/images/3/3c/Iron_Man_Armor_MK_II_(Earth-199999).jpg\n",
            "[%] File Downloaded !\n",
            "\n",
            "[%] Downloading Image #6 from http://2.bp.blogspot.com/-kZlWcd6Iqno/UVx4csWn_OI/AAAAAAAABJU/4DFY4HF8WdI/s1600/r-Windows-7jpg17.jpg\n",
            "[%] File Downloaded !\n",
            "\n",
            "[%] Downloading Image #7 from http://www.marvunapp.com/Appendix/ironman20203.jpg\n",
            "[%] File Downloaded !\n",
            "\n",
            "[%] Downloading Image #8 from http://2.bp.blogspot.com/-VDrAzn93PXg/UAbLtkwvr4I/AAAAAAAAADE/TwdbHdfwPeo/s1600/050208ironman-mark1lg.jpg\n",
            "[%] File Downloaded !\n",
            "\n",
            "[%] Downloading Image #9 from http://www.majorspoilers.com/wp-content/uploads/2012/04/IronMan-Back.jpg\n",
            "[%] File Downloaded !\n",
            "\n",
            "\n",
            "\n",
            "[!!]Indexing page: 2\n",
            "\n",
            "[%] Indexed 10 Images on Page 2.\n",
            "\n",
            "===============================================\n",
            "\n",
            "[%] Downloading Image #10 from http://www.wired.com/images_blogs/underwire/2010/03/iron_man_int_1200.jpg\n",
            "[%] File Downloaded !\n",
            "\n",
            "[%] Downloading Image #11 from http://photos.costume-works.com/full/iron_man1.jpg\n",
            "[%] File Downloaded !\n",
            "\n",
            "[%] Downloading Image #12 from http://www.firstshowing.net/img/iron-man-hit.jpg\n",
            "[%] File Downloaded !\n",
            "\n",
            "[%] Downloading Image #13 from http://nerdbastards.com/wp-content/uploads/2012/10/ironmanarmor20193124.jpeg\n",
            "[%] File Downloaded !\n",
            "\n",
            "[%] Downloading Image #14 from http://news.toyark.com/wp-content/uploads/sites/4/2013/04/Kotobukiya-Iron-Man-3-War-Machine-ARTFX-Statue-010.jpg\n",
            "[%] File Downloaded !\n",
            "\n",
            "[%] Downloading Image #15 from http://2.bp.blogspot.com/_1M09Hh1F6OY/S97TE0syUJI/AAAAAAAAAUM/YDwLNCydgW8/s1600/iron+man+lab.jpg\n",
            "[%] File Downloaded !\n",
            "\n",
            "[%] Downloading Image #16 from http://www.comiclist.com/media/blogs/news/InvincibleIronMan01_TanCover.jpg\n",
            "[%] File Downloaded !\n",
            "\n",
            "[%] Downloading Image #17 from http://1.bp.blogspot.com/_EYb-x4KtXYc/TP4KIGOoLiI/AAAAAAAAAKc/IATWPgLio_g/s1600/DSC02547.JPG\n",
            "[%] File Downloaded !\n",
            "\n",
            "[%] Downloading Image #18 from http://images4.wikia.nocookie.net/__cb20100423182060/marveldatabase/images/4/46/Iron_Man_2_%28film%29_0005.jpg\n",
            "[%] File Downloaded !\n",
            "\n",
            "[%] Downloading Image #19 from http://criticsight.com/wp-content/uploads/2012/08/Figura-Iron-Man-Mark-1-hot-toys-criticsight-imagen-8.jpg\n",
            "[%] File Downloaded !\n",
            "\n",
            "\n",
            "\n",
            "[!!]Indexing page: 3\n",
            "\n",
            "[%] Indexed 9 Images on Page 3.\n",
            "\n",
            "===============================================\n",
            "\n",
            "[%] Downloading Image #20 from https://www.hdwallpapers.in/download/spider_man_homecoming_iron_man-2560x1440.jpg\n",
            "[%] File Downloaded !\n",
            "\n",
            "[%] Downloading Image #21 from https://s1.cdn.autoevolution.com/images/news/gallery/iron-man-2-motorcycle-suit-now-available_2.jpg\n",
            "[%] File Downloaded !\n",
            "\n",
            "[%] Downloading Image #22 from http://www.hdwallpapers.in/download/iron_man_arc_chest_light-1440x900.jpg\n",
            "[%] File Downloaded !\n",
            "\n",
            "[%] Downloading Image #23 from https://www.hdwallpapers.in/download/spider_man_homecoming_iron_man-1920x1080.jpg\n",
            "[%] File Downloaded !\n",
            "\n",
            "[%] Downloading Image #24 from https://www.hdwallpapers.in/download/civil_war_captain_america_iron_man-640x1136.jpg\n",
            "[%] File Downloaded !\n",
            "\n",
            "[%] Downloading Image #25 from https://www.hdwallpapers.in/download/iron_man_vs_captain_america_artwork-1920x1080.jpg\n",
            "[%] File Downloaded !\n",
            "\n",
            "[%] Downloading Image #26 from https://www.hdwallpapers.in/download/captain_america_vs_iron_man-1920x1080.jpg\n",
            "[%] File Downloaded !\n",
            "\n",
            "[%] Downloading Image #27 from https://dibujando.net/files/fs/p/c/900x1000/2015/348/WP_20151214_008_246475.jpg\n",
            "[%] File Downloaded !\n",
            "\n",
            "[%] Downloading Image #28 from https://cdn.shopify.com/s/files/1/1019/0695/products/dictionary_page_8c3666fe-96f1-4dca-828f-bc8d197de817_grande.jpg?v=1465956247\n",
            "[%] File Downloaded !\n",
            "\n",
            "\n",
            "\n",
            "[!!]Indexing page: 4\n",
            "\n",
            "[%] Indexed 8 Images on Page 4.\n",
            "\n",
            "===============================================\n",
            "\n",
            "[%] Downloading Image #29 from http://www.jhstoys.com/uploads/6/1/3/7/61377571/s737619424575262359_p203_i5_w600.jpeg\n",
            "[%] File Downloaded !\n",
            "\n",
            "[%] Downloading Image #30 from https://funnypictures.me/wp-content/uploads/2015/10/funny-pictures-bad-halloween-costumes-iron-man.jpg\n",
            "[%] File Downloaded !\n",
            "\n",
            "\n",
            "\n",
            "[%] Done. Downloaded 30 images.\n",
            "\n",
            "===============================================\n",
            "\n",
            "time: 12.4 s (started: 2021-05-22 14:25:36 +00:00)\n"
          ],
          "name": "stdout"
        }
      ]
    },
    {
      "cell_type": "code",
      "metadata": {
        "colab": {
          "base_uri": "https://localhost:8080/"
        },
        "id": "9P4p0q9mlODO",
        "outputId": "02b4f27a-70fa-4e88-aa23-774d20d36dbe"
      },
      "source": [
        "downloader.download(\"dairymilk wrapper\", limit=30,  output_dir='images', adult_filter_off=True, force_replace=False, timeout=60)"
      ],
      "execution_count": null,
      "outputs": [
        {
          "output_type": "stream",
          "text": [
            "\n",
            "\n",
            "[!!]Indexing page: 1\n",
            "\n",
            "[%] Indexed 10 Images on Page 1.\n",
            "\n",
            "===============================================\n",
            "\n",
            "[%] Downloading Image #1 from https://trickytime.in/wp-content/uploads/2018/09/cadbury-dairy-milk-wrapper.jpg\n",
            "[%] File Downloaded !\n",
            "\n",
            "[%] Downloading Image #2 from http://solopress.com/blog/wp-content/uploads/2013/11/cadbury-dairy-milk-new-design.jpg\n",
            "[%] File Downloaded !\n",
            "\n",
            "[%] Downloading Image #3 from http://www.loveirishfood.ie/wp-content/uploads/2011/12/cadbury1.jpg\n",
            "[%] File Downloaded !\n",
            "\n",
            "[%] Downloading Image #4 from https://c8.alamy.com/comp/BP6C05/a-bar-of-cadbury-dairy-milk-chocolate-in-its-wrapper-with-a-bite-taken-BP6C05.jpg\n",
            "[%] File Downloaded !\n",
            "\n",
            "[%] Downloading Image #5 from http://3.bp.blogspot.com/-erA9A8wrdKE/U8tKLCYBOnI/AAAAAAAADn8/svh-mqO1KFY/s1600/cad-dmstrawbcrm2.jpg\n",
            "[%] File Downloaded !\n",
            "\n",
            "[%] Downloading Image #6 from https://c2.staticflickr.com/4/3190/3051319604_0be297bf22_z.jpg\n",
            "[%] File Downloaded !\n",
            "\n",
            "[%] Downloading Image #7 from https://img.maximummedia.ie/her_ie/eyJkYXRhIjoie1widXJsXCI6XCJodHRwOlxcXC9cXFwvbWVkaWEtaGVyLm1heGltdW1tZWRpYS5pZS5zMy5hbWF6b25hd3MuY29tXFxcL3dwLWNvbnRlbnRcXFwvdXBsb2Fkc1xcXC8yMDEzXFxcLzA5XFxcLzk5ODBmZmM3YzkwY2M1NzUyYjU5N2EzNzUxYzczYWIzZGYxNGFhMDUtOTY1eDEwMjQuanBlZ1wiLFwid2lkdGhcIjpudWxsLFwiaGVpZ2h0XCI6NDUwLFwiZGVmYXVsdFwiOlwiaHR0cHM6XFxcL1xcXC93d3cuaGVyLmllXFxcL2Fzc2V0c1xcXC9pbWFnZXNcXFwvaGVyXFxcL25vLWltYWdlLnBuZz9pZD0wZDJkNjI3YzA1OWI5ZWRjYWIwZFwiLFwib3B0aW9uc1wiOltdfSIsImhhc2giOiJlNTlhNDFhNTRlOGY4OWE1NDcyOTNjZTBmZTY2YjYxNGExZTU0YjNjIn0=/9980ffc7c90cc5752b597a3751c73ab3df14aa05-965x1024.jpeg\n",
            "[%] File Downloaded !\n",
            "\n",
            "[%] Downloading Image #8 from https://image.slidesharecdn.com/productmixofdairymilk-121015114001-phpapp01/95/product-mix-of-dairymilk-5-638.jpg?cb=1350301276\n",
            "[%] File Downloaded !\n",
            "\n",
            "[%] Downloading Image #9 from https://s3.amazonaws.com/indiafoodnetwork/wp-content/uploads/2019/07/07112255/dairymilk-web.jpg\n",
            "[%] File Downloaded !\n",
            "\n",
            "[%] Downloading Image #10 from https://image.slidesharecdn.com/chocolatepresentation-100912101101-phpapp01/95/chocolate-presentation-8-728.jpg?cb=1284286392\n",
            "[%] File Downloaded !\n",
            "\n",
            "\n",
            "\n",
            "[!!]Indexing page: 2\n",
            "\n",
            "[%] Indexed 10 Images on Page 2.\n",
            "\n",
            "===============================================\n",
            "\n",
            "[%] Downloading Image #11 from https://4.bp.blogspot.com/-b2sMh3BAWY4/V5Ws2gnIksI/AAAAAAAC-58/PXToSb1v9wMdFJrNZNsd71L_KTyL0XFcQCKgB/s1600/cadbury%2Bus%2Bvs%2Buk%2B1.jpg\n",
            "[%] File Downloaded !\n",
            "\n",
            "[%] Downloading Image #12 from http://www.chocozone.net/images/wrappers/cadburyind000433512.jpg\n",
            "[%] File Downloaded !\n",
            "\n",
            "[%] Downloading Image #13 from https://i2-prod.mirror.co.uk/incoming/article194456.ece/ALTERNATES/s615b/CA778C3D-A93F-FF69-53359EB8196CE624.jpg\n",
            "[%] File Downloaded !\n",
            "\n",
            "[%] Downloading Image #14 from http://4.bp.blogspot.com/-ja7_0tFwmYM/UxTVOHjmdxI/AAAAAAAACHU/xSiu2W3dkS4/s1600/Wrapper.JPG\n",
            "[%] File Downloaded !\n",
            "\n",
            "[%] Downloading Image #15 from https://i.pinimg.com/736x/09/be/e4/09bee49a3704d953e2cfbd442ce9b263.jpg\n",
            "[%] File Downloaded !\n",
            "\n",
            "[%] Downloading Image #16 from http://www.irishtimes.com/polopoly_fs/1.1572077.1382629418!/image/image.png_gen/derivatives/landscape_490/image.png\n",
            "[%] File Downloaded !\n",
            "\n",
            "[%] Downloading Image #17 from http://i.ytimg.com/vi/XrJwYvhJDjw/maxresdefault.jpg\n",
            "[%] File Downloaded !\n",
            "\n",
            "[%] Downloading Image #18 from https://cdn001.cakecentral.com/gallery/2015/03/900_743983z4zF_cadbury-dairy-milk-chocolate-bar-cake.jpg\n",
            "[%] File Downloaded !\n",
            "\n",
            "[%] Downloading Image #19 from https://www.campbells.com.au/medias/?context=bWFzdGVyfGltYWdlc3wxODEwMHxpbWFnZS9qcGVnfGltYWdlcy9oMTYvaGY5LzkyOTYwMDk2MjU2MzAuanBnfDllYTIwOTQ3ZjNiMTJkZjhiMzdiNWZiMzM1N2ZlZjc4OTMyMDVmZjRlOTZmZTNiMTQ5NTU0YmE1ZTZmYTdmNjg\n",
            "[%] File Downloaded !\n",
            "\n",
            "[%] Downloading Image #20 from http://1.gravatar.com/avatar/4fcdb9d9076722ad557b2e196679e429?s=75&amp;d=mm&amp;r=g\n",
            "[%] File Downloaded !\n",
            "\n",
            "\n",
            "\n",
            "[!!]Indexing page: 3\n",
            "\n",
            "[%] Indexed 9 Images on Page 3.\n",
            "\n",
            "===============================================\n",
            "\n",
            "[%] Downloading Image #21 from https://cached.imagescaler.hbpl.co.uk/resize/scaleHeight/815/cached.offlinehbpl.hbpl.co.uk/news/OMC/CDM1-20200420122636425.jpg\n",
            "[%] File Downloaded !\n",
            "\n",
            "[%] Downloading Image #22 from https://st2.depositphotos.com/1186248/10917/i/950/depositphotos_109179742-stock-photo-cadbury-dairy-milk-chocolate-bar.jpg\n",
            "[%] File Downloaded !\n",
            "\n",
            "[%] Downloading Image #23 from https://e3.365dm.com/19/03/768x432/skynews-cadburys-freddo-milk-chocolate_4599007.jpg?20190306110643\n",
            "[Error]Invalid image, not saving https://e3.365dm.com/19/03/768x432/skynews-cadburys-freddo-milk-chocolate_4599007.jpg?20190306110643\n",
            "\n",
            "[!] Issue getting: https://e3.365dm.com/19/03/768x432/skynews-cadburys-freddo-milk-chocolate_4599007.jpg?20190306110643\n",
            "[!] Error:: No active exception to reraise\n",
            "[%] Downloading Image #23 from http://www.bz-e.com/uploadfile/2013/1216/20131216114915700.jpg\n",
            "[%] File Downloaded !\n",
            "\n",
            "[%] Downloading Image #24 from http://www.swirlingovercoffee.com/wp-content/uploads/2016/09/Cadbury-Dairy-Milk-Logo-header-720x320.jpg\n",
            "[%] File Downloaded !\n",
            "\n",
            "[%] Downloading Image #25 from https://worldblaze.in/wp-content/uploads/2015/12/Dairy-Milk.jpg\n",
            "[%] File Downloaded !\n",
            "\n",
            "[%] Downloading Image #26 from http://img.tesco.com/Groceries/pi/999/7622300735999/IDShot_540x540.jpg\n",
            "[%] File Downloaded !\n",
            "\n",
            "[%] Downloading Image #27 from http://www.afaqs.com/all/news/images/news_story_grfx/2015/07/45060/Cadbury-Dairy-Milk-Silk.jpg\n",
            "[%] File Downloaded !\n",
            "\n",
            "[%] Downloading Image #28 from https://beetelbite.com/wp-content/uploads/2018/09/MyJio-DairyMilk-1.jpg\n",
            "[%] File Downloaded !\n",
            "\n",
            "\n",
            "\n",
            "[!!]Indexing page: 4\n",
            "\n",
            "[%] Indexed 8 Images on Page 4.\n",
            "\n",
            "===============================================\n",
            "\n",
            "[%] Downloading Image #29 from https://i2-prod.mirror.co.uk/incoming/article194456.ece/ALTERNATES/s615b/CA778C3D-A93F-FF69-53359EB8196CE624.jpg\n",
            "[%] File Downloaded !\n",
            "\n",
            "[%] Downloading Image #30 from http://4.bp.blogspot.com/-ja7_0tFwmYM/UxTVOHjmdxI/AAAAAAAACHU/xSiu2W3dkS4/s1600/Wrapper.JPG\n",
            "[%] File Downloaded !\n",
            "\n",
            "\n",
            "\n",
            "[%] Done. Downloaded 30 images.\n",
            "\n",
            "===============================================\n",
            "\n",
            "time: 42.7 s (started: 2021-05-22 14:23:23 +00:00)\n"
          ],
          "name": "stdout"
        }
      ]
    },
    {
      "cell_type": "code",
      "metadata": {
        "colab": {
          "base_uri": "https://localhost:8080/"
        },
        "id": "syXISqGqlUYe",
        "outputId": "1c26a666-af5d-464b-f661-c1075901b790"
      },
      "source": [
        "downloader.download(\"kitkat wrapper\", limit=30,  output_dir='images', adult_filter_off=True, force_replace=False, timeout=60)"
      ],
      "execution_count": null,
      "outputs": [
        {
          "output_type": "stream",
          "text": [
            "\n",
            "\n",
            "[!!]Indexing page: 1\n",
            "\n",
            "[%] Indexed 10 Images on Page 1.\n",
            "\n",
            "===============================================\n",
            "\n",
            "[%] Downloading Image #1 from http://www.candywrapperarchive.com/wp-content/uploads/2013/02/Image547.jpg\n",
            "[%] File Downloaded !\n",
            "\n",
            "[%] Downloading Image #2 from https://www.hersheys.com/content/dam/smartlabelproductsimage/kitkat/00034000000463-0013.png\n",
            "[!] Issue getting: https://www.hersheys.com/content/dam/smartlabelproductsimage/kitkat/00034000000463-0013.png\n",
            "[!] Error:: HTTP Error 404: Not Found\n",
            "[%] Downloading Image #2 from https://cdn.images.dailystar.co.uk/dynamic/1/photos/964000/620x/Kit-Kat-432018.jpg\n",
            "[%] File Downloaded !\n",
            "\n",
            "[%] Downloading Image #3 from https://media1.s-nbcnews.com/j/newscms/2019_07/1186295/kit-kat-today-170106-tease_0ed265d1ae59510b7a53338d59853460.fit-760w.jpg\n",
            "[%] File Downloaded !\n",
            "\n",
            "[%] Downloading Image #4 from http://www.lightstraw.co.uk/faded/delights/fd_kitkat_foil4_300.jpg\n",
            "[%] File Downloaded !\n",
            "\n",
            "[%] Downloading Image #5 from https://www.promomarketing.info/wp-content/uploads/2017/02/KitKat-Personalised-pack-promotion-Feb-2017-1600-735x400.jpg\n",
            "[%] File Downloaded !\n",
            "\n",
            "[%] Downloading Image #6 from https://i.ytimg.com/vi/ltJJoQf6Xqg/maxresdefault.jpg\n",
            "[%] File Downloaded !\n",
            "\n",
            "[%] Downloading Image #7 from https://g.foolcdn.com/editorial/images/473216/nsrgy-kitkat.jpg\n",
            "[%] File Downloaded !\n",
            "\n",
            "[%] Downloading Image #8 from https://i.ytimg.com/vi/YqGnScBFn-g/maxresdefault.jpg\n",
            "[%] File Downloaded !\n",
            "\n",
            "[%] Downloading Image #9 from https://img.etsystatic.com/il/458f09/759813256/il_570xN.759813256_b3sl.jpg\n",
            "[%] File Downloaded !\n",
            "\n",
            "\n",
            "\n",
            "[!!]Indexing page: 2\n",
            "\n",
            "[%] Indexed 10 Images on Page 2.\n",
            "\n",
            "===============================================\n",
            "\n",
            "[%] Downloading Image #10 from https://www.hersheys.com/content/dam/kitkat/en_us/images/products/34000_24600_000_Item_Front.png\n",
            "[!] Issue getting: https://www.hersheys.com/content/dam/kitkat/en_us/images/products/34000_24600_000_Item_Front.png\n",
            "[!] Error:: HTTP Error 404: Not Found\n",
            "[%] Downloading Image #10 from http://www.candywrapperarchive.com/wp-content/uploads/2013/02/Image258.jpg\n",
            "[%] File Downloaded !\n",
            "\n",
            "[%] Downloading Image #11 from https://www.thelittleepicurean.com/wp-content/uploads/2016/04/Japanese-Kit-Kats-little-epicurean-2.jpg\n",
            "[%] File Downloaded !\n",
            "\n",
            "[%] Downloading Image #12 from http://www.candywrapperarchive.com/wp-content/uploads/2013/02/Image686.jpg\n",
            "[%] File Downloaded !\n",
            "\n",
            "[%] Downloading Image #13 from http://www.hersheys.com/content/dam/kitkat/en_us/images/home/home-kit-kat-bar-break.png?fmt=png-alpha\n",
            "[!] Issue getting: http://www.hersheys.com/content/dam/kitkat/en_us/images/home/home-kit-kat-bar-break.png?fmt=png-alpha\n",
            "[!] Error:: HTTP Error 404: Not Found\n",
            "[%] Downloading Image #13 from https://4.bp.blogspot.com/_Xf4Uv4xqdpM/Sw58ZQ6a8bI/AAAAAAAAA5Q/1KS5MGvaDUE/s1600/画像-0173.jpg\n",
            "[!] Issue getting: https://4.bp.blogspot.com/_Xf4Uv4xqdpM/Sw58ZQ6a8bI/AAAAAAAAA5Q/1KS5MGvaDUE/s1600/画像-0173.jpg\n",
            "[!] Error:: 'ascii' codec can't encode characters in position 60-61: ordinal not in range(128)\n",
            "[%] Downloading Image #13 from https://info.snapmart.jp/wp-content/uploads/2019/03/81Oqjbces6L._SX522_.jpg\n",
            "[%] File Downloaded !\n",
            "\n",
            "[%] Downloading Image #14 from http://1.bp.blogspot.com/-LCtoHCiLEG8/UO7_GLs8Z1I/AAAAAAAACsM/TgSAYXs6waA/s1600/kit-kat.jpg\n",
            "[%] File Downloaded !\n",
            "\n",
            "[%] Downloading Image #15 from http://blog.go-walkabout.co.uk/wp-content/uploads/2012/12/kitkat.jpg\n",
            "[%] File Downloaded !\n",
            "\n",
            "[%] Downloading Image #16 from https://papernations.net/image/cache/Ready%20Party%20Kits/Cupcake%20Toppers/49.Cupcake%20Topper%20BabyBus-800x800.jpg\n",
            "[%] File Downloaded !\n",
            "\n",
            "\n",
            "\n",
            "[!!]Indexing page: 3\n",
            "\n",
            "[%] Indexed 9 Images on Page 3.\n",
            "\n",
            "===============================================\n",
            "\n",
            "[%] Downloading Image #17 from http://www.candywrapperarchive.com/wp-content/uploads/2013/02/Image258.jpg\n",
            "[%] File Downloaded !\n",
            "\n",
            "[%] Downloading Image #18 from https://www.thelittleepicurean.com/wp-content/uploads/2016/04/Japanese-Kit-Kats-little-epicurean-2.jpg\n",
            "[%] File Downloaded !\n",
            "\n",
            "[%] Downloading Image #19 from http://www.candywrapperarchive.com/wp-content/uploads/2013/02/Image686.jpg\n",
            "[%] File Downloaded !\n",
            "\n",
            "[%] Downloading Image #20 from http://www.hersheys.com/content/dam/kitkat/en_us/images/home/home-kit-kat-bar-break.png?fmt=png-alpha\n",
            "[!] Issue getting: http://www.hersheys.com/content/dam/kitkat/en_us/images/home/home-kit-kat-bar-break.png?fmt=png-alpha\n",
            "[!] Error:: HTTP Error 404: Not Found\n",
            "[%] Downloading Image #20 from https://4.bp.blogspot.com/_Xf4Uv4xqdpM/Sw58ZQ6a8bI/AAAAAAAAA5Q/1KS5MGvaDUE/s1600/画像-0173.jpg\n",
            "[!] Issue getting: https://4.bp.blogspot.com/_Xf4Uv4xqdpM/Sw58ZQ6a8bI/AAAAAAAAA5Q/1KS5MGvaDUE/s1600/画像-0173.jpg\n",
            "[!] Error:: 'ascii' codec can't encode characters in position 60-61: ordinal not in range(128)\n",
            "[%] Downloading Image #20 from https://info.snapmart.jp/wp-content/uploads/2019/03/81Oqjbces6L._SX522_.jpg\n",
            "[%] File Downloaded !\n",
            "\n",
            "[%] Downloading Image #21 from http://1.bp.blogspot.com/-LCtoHCiLEG8/UO7_GLs8Z1I/AAAAAAAACsM/TgSAYXs6waA/s1600/kit-kat.jpg\n",
            "[%] File Downloaded !\n",
            "\n",
            "[%] Downloading Image #22 from http://blog.go-walkabout.co.uk/wp-content/uploads/2012/12/kitkat.jpg\n",
            "[%] File Downloaded !\n",
            "\n",
            "[%] Downloading Image #23 from https://papernations.net/image/cache/Ready%20Party%20Kits/Cupcake%20Toppers/49.Cupcake%20Topper%20BabyBus-800x800.jpg\n",
            "[%] File Downloaded !\n",
            "\n",
            "\n",
            "\n",
            "[!!]Indexing page: 4\n",
            "\n",
            "[%] Indexed 8 Images on Page 4.\n",
            "\n",
            "===============================================\n",
            "\n",
            "[%] Downloading Image #24 from https://www.kitkatarabia.com/sites/all/themes/kitkat/assets/images/product-page/product-details/KK-4-F_-wrapper_3-D-render-front.png\n",
            "[%] File Downloaded !\n",
            "\n",
            "[%] Downloading Image #25 from https://www.tokyoweekender.com/wp-content/uploads/2016/04/kitkat.jpg\n",
            "[%] File Downloaded !\n",
            "\n",
            "[%] Downloading Image #26 from https://i.ytimg.com/vi/b72sp1eyzlc/maxresdefault.jpg\n",
            "[%] File Downloaded !\n",
            "\n",
            "[%] Downloading Image #27 from https://editorial.designtaxi.com/editorial-images/news-KitKat060819/Kit-Kat-KitKat-Nestle-Packaging-Plastic-Wrapper-Paper-Origami-1.jpg\n",
            "[%] File Downloaded !\n",
            "\n",
            "[%] Downloading Image #28 from http://www.candywrapperarchive.com/wp-content/uploads/2013/02/Image688.jpg\n",
            "[%] File Downloaded !\n",
            "\n",
            "[%] Downloading Image #29 from https://i.pinimg.com/736x/3b/b9/c6/3bb9c62876433b3036320cd082132805--chocolate-bars-sketch.jpg\n",
            "[%] File Downloaded !\n",
            "\n",
            "[%] Downloading Image #30 from https://www.kitkatarabia.com/sites/all/themes/kitkat/assets/images/product-page/product-range/with-wrapper/kitakt-4-finger-dark-chocolatelatest.png\n",
            "[%] File Downloaded !\n",
            "\n",
            "\n",
            "\n",
            "[%] Done. Downloaded 30 images.\n",
            "\n",
            "===============================================\n",
            "\n",
            "time: 15.8 s (started: 2021-05-22 14:24:10 +00:00)\n"
          ],
          "name": "stdout"
        }
      ]
    },
    {
      "cell_type": "code",
      "metadata": {
        "colab": {
          "base_uri": "https://localhost:8080/"
        },
        "id": "_wQIFhS3nPLb",
        "outputId": "0e5ae70b-0518-4ffc-934e-59ae9fddbf8c"
      },
      "source": [
        "import os\n",
        "import numpy as np\n",
        "import pandas as pd\n",
        "import matplotlib.pyplot as plt\n",
        "from skimage.io import imread\n",
        "from skimage.transform import resize\n",
        "\n",
        "datadir = '/content/images'\n",
        "categories = ['dairymilk wrapper','iron man','kitkat wrapper'] \n",
        "target = []\n",
        "images = []\n",
        "flat_data = []\n",
        "\n",
        "for i in categories:\n",
        "  path = os.path.join(datadir,i)\n",
        "  class_num = categories.index(i)\n",
        "  for img in os.listdir(path):\n",
        "    img_array = imread(os.path.join(path,img))\n",
        "    img_resize = resize(img_array,(150,150,3)) \n",
        "    flat_data.append(np.ndarray.flatten(img_resize))\n",
        "    target.append(class_num)\n",
        "    images.append(img_resize)\n",
        "\n",
        "flat_data = np.array(flat_data)\n",
        "target = np.array(target)\n",
        "images = np.array(images)"
      ],
      "execution_count": null,
      "outputs": [
        {
          "output_type": "stream",
          "text": [
            "time: 12.9 s (started: 2021-05-22 14:26:00 +00:00)\n"
          ],
          "name": "stdout"
        }
      ]
    },
    {
      "cell_type": "code",
      "metadata": {
        "colab": {
          "base_uri": "https://localhost:8080/"
        },
        "id": "19TPx6pHnPwD",
        "outputId": "ed899679-2c7d-4713-9bf5-526ab7c1a020"
      },
      "source": [
        "flat_data[0]"
      ],
      "execution_count": null,
      "outputs": [
        {
          "output_type": "execute_result",
          "data": {
            "text/plain": [
              "array([0.30157952, 0.12866558, 0.10467865, ..., 0.70568627, 0.45816993,\n",
              "       0.43071895])"
            ]
          },
          "metadata": {
            "tags": []
          },
          "execution_count": 8
        },
        {
          "output_type": "stream",
          "text": [
            "time: 6.11 ms (started: 2021-05-22 14:26:39 +00:00)\n"
          ],
          "name": "stdout"
        }
      ]
    },
    {
      "cell_type": "code",
      "metadata": {
        "colab": {
          "base_uri": "https://localhost:8080/"
        },
        "id": "1DC5o361nb4c",
        "outputId": "c96ac1b7-0867-439e-991c-6b03657ae5b7"
      },
      "source": [
        "target"
      ],
      "execution_count": null,
      "outputs": [
        {
          "output_type": "execute_result",
          "data": {
            "text/plain": [
              "array([0, 0, 0, 0, 0, 0, 0, 0, 0, 0, 0, 0, 0, 0, 0, 0, 0, 0, 0, 0, 0, 0,\n",
              "       0, 0, 0, 0, 0, 0, 0, 0, 1, 1, 1, 1, 1, 1, 1, 1, 1, 1, 1, 1, 1, 1,\n",
              "       1, 1, 1, 1, 1, 1, 1, 1, 1, 1, 1, 1, 1, 1, 1, 1, 1, 1, 1, 1, 1, 1,\n",
              "       2, 2, 2, 2, 2, 2, 2, 2, 2, 2, 2, 2, 2, 2, 2, 2, 2, 2, 2, 2, 2, 2,\n",
              "       2, 2, 2, 2, 2, 2, 2, 2])"
            ]
          },
          "metadata": {
            "tags": []
          },
          "execution_count": 9
        },
        {
          "output_type": "stream",
          "text": [
            "time: 4.33 ms (started: 2021-05-22 14:26:44 +00:00)\n"
          ],
          "name": "stdout"
        }
      ]
    },
    {
      "cell_type": "code",
      "metadata": {
        "colab": {
          "base_uri": "https://localhost:8080/",
          "height": 300
        },
        "id": "v45_I51tng8H",
        "outputId": "71471249-a1fb-428b-86fc-123c7654f8db"
      },
      "source": [
        "unique,count = np.unique(target,return_counts = True)\n",
        "plt.bar(categories,count)"
      ],
      "execution_count": null,
      "outputs": [
        {
          "output_type": "execute_result",
          "data": {
            "text/plain": [
              "<BarContainer object of 3 artists>"
            ]
          },
          "metadata": {
            "tags": []
          },
          "execution_count": 10
        },
        {
          "output_type": "display_data",
          "data": {
            "image/png": "[encoded data removed]",
            "text/plain": [
              "<Figure size 432x288 with 1 Axes>"
            ]
          },
          "metadata": {
            "tags": [],
            "needs_background": "light"
          }
        },
        {
          "output_type": "stream",
          "text": [
            "time: 160 ms (started: 2021-05-22 14:26:47 +00:00)\n"
          ],
          "name": "stdout"
        }
      ]
    },
    {
      "cell_type": "code",
      "metadata": {
        "colab": {
          "base_uri": "https://localhost:8080/"
        },
        "id": "YdT_dWM8nk93",
        "outputId": "58f59b72-6b3e-4cee-8e64-e53f27b7ef58"
      },
      "source": [
        "from sklearn.model_selection import train_test_split\n",
        "X_train,X_test,y_train,y_test = train_test_split(flat_data,target,test_size=0.3,random_state=0)"
      ],
      "execution_count": null,
      "outputs": [
        {
          "output_type": "stream",
          "text": [
            "time: 180 ms (started: 2021-05-22 14:26:56 +00:00)\n"
          ],
          "name": "stdout"
        }
      ]
    },
    {
      "cell_type": "code",
      "metadata": {
        "colab": {
          "base_uri": "https://localhost:8080/"
        },
        "id": "DtwqOjkInpOu",
        "outputId": "4a9e0ea8-1155-450b-8120-703cc684d992"
      },
      "source": [
        "from sklearn.model_selection import GridSearchCV\n",
        "from sklearn import svm\n",
        "param_grid = [\n",
        "              {'C':[1,10,100,1000],'kernel':['linear']},\n",
        "              {'C':[1,10,100,1000],'gamma':[0.001,0.0001],'kernel':['rbf']}\n",
        "              ]\n",
        "svc = svm.SVC(probability=True)\n",
        "clf= GridSearchCV(svc,param_grid)\n",
        "clf.fit(X_train,y_train)"
      ],
      "execution_count": null,
      "outputs": [
        {
          "output_type": "execute_result",
          "data": {
            "text/plain": [
              "GridSearchCV(cv=None, error_score=nan,\n",
              "             estimator=SVC(C=1.0, break_ties=False, cache_size=200,\n",
              "                           class_weight=None, coef0=0.0,\n",
              "                           decision_function_shape='ovr', degree=3,\n",
              "                           gamma='scale', kernel='rbf', max_iter=-1,\n",
              "                           probability=True, random_state=None, shrinking=True,\n",
              "                           tol=0.001, verbose=False),\n",
              "             iid='deprecated', n_jobs=None,\n",
              "             param_grid=[{'C': [1, 10, 100, 1000], 'kernel': ['linear']},\n",
              "                         {'C': [1, 10, 100, 1000], 'gamma': [0.001, 0.0001],\n",
              "                          'kernel': ['rbf']}],\n",
              "             pre_dispatch='2*n_jobs', refit=True, return_train_score=False,\n",
              "             scoring=None, verbose=0)"
            ]
          },
          "metadata": {
            "tags": []
          },
          "execution_count": 12
        },
        {
          "output_type": "stream",
          "text": [
            "time: 2min 1s (started: 2021-05-22 14:27:05 +00:00)\n"
          ],
          "name": "stdout"
        }
      ]
    },
    {
      "cell_type": "code",
      "metadata": {
        "colab": {
          "base_uri": "https://localhost:8080/"
        },
        "id": "df5JKZ7PnsiF",
        "outputId": "82f9ae2b-34b0-40c3-dce7-7f5e715ec5f0"
      },
      "source": [
        "y_pred = clf.predict(X_test)\n",
        "y_pred"
      ],
      "execution_count": null,
      "outputs": [
        {
          "output_type": "execute_result",
          "data": {
            "text/plain": [
              "array([0, 2, 2, 1, 2, 2, 0, 2, 1, 2, 1, 2, 2, 0, 0, 1, 1, 0, 1, 0, 1, 1,\n",
              "       0, 2, 1, 1, 0, 2, 2])"
            ]
          },
          "metadata": {
            "tags": []
          },
          "execution_count": 13
        },
        {
          "output_type": "stream",
          "text": [
            "time: 175 ms (started: 2021-05-22 14:29:07 +00:00)\n"
          ],
          "name": "stdout"
        }
      ]
    },
    {
      "cell_type": "code",
      "metadata": {
        "colab": {
          "base_uri": "https://localhost:8080/"
        },
        "id": "N8J2dAKRnx_U",
        "outputId": "1152f6d3-edbf-4957-ba48-29da2dbfb94f"
      },
      "source": [
        "from sklearn.metrics import accuracy_score,confusion_matrix"
      ],
      "execution_count": null,
      "outputs": [
        {
          "output_type": "stream",
          "text": [
            "time: 1.22 ms (started: 2021-05-22 14:29:07 +00:00)\n"
          ],
          "name": "stdout"
        }
      ]
    },
    {
      "cell_type": "code",
      "metadata": {
        "colab": {
          "base_uri": "https://localhost:8080/"
        },
        "id": "Ad_wnEzfn0dW",
        "outputId": "75d53f38-7fd0-48e2-e174-082e99587b81"
      },
      "source": [
        "accuracy_score(y_pred,y_test)"
      ],
      "execution_count": null,
      "outputs": [
        {
          "output_type": "execute_result",
          "data": {
            "text/plain": [
              "0.9310344827586207"
            ]
          },
          "metadata": {
            "tags": []
          },
          "execution_count": 15
        },
        {
          "output_type": "stream",
          "text": [
            "time: 4.34 ms (started: 2021-05-22 14:29:07 +00:00)\n"
          ],
          "name": "stdout"
        }
      ]
    },
    {
      "cell_type": "code",
      "metadata": {
        "colab": {
          "base_uri": "https://localhost:8080/"
        },
        "id": "j2krDRm5n1Bj",
        "outputId": "d55e998d-9a80-4469-fd4e-b87e33d1311f"
      },
      "source": [
        "confusion_matrix(y_pred,y_test)"
      ],
      "execution_count": null,
      "outputs": [
        {
          "output_type": "execute_result",
          "data": {
            "text/plain": [
              "array([[ 8,  0,  0],\n",
              "       [ 1,  9,  0],\n",
              "       [ 1,  0, 10]])"
            ]
          },
          "metadata": {
            "tags": []
          },
          "execution_count": 16
        },
        {
          "output_type": "stream",
          "text": [
            "time: 4.88 ms (started: 2021-05-22 14:29:07 +00:00)\n"
          ],
          "name": "stdout"
        }
      ]
    },
    {
      "cell_type": "code",
      "metadata": {
        "colab": {
          "base_uri": "https://localhost:8080/"
        },
        "id": "BYOO2VDun239",
        "outputId": "302168a4-bd7c-4b03-c53c-b117e857168b"
      },
      "source": [
        "import pickle\n",
        "pickle.dump(clf,open('image_model.p','wb'))"
      ],
      "execution_count": null,
      "outputs": [
        {
          "output_type": "stream",
          "text": [
            "time: 49.9 ms (started: 2021-05-22 14:29:07 +00:00)\n"
          ],
          "name": "stdout"
        }
      ]
    },
    {
      "cell_type": "code",
      "metadata": {
        "colab": {
          "base_uri": "https://localhost:8080/"
        },
        "id": "8Uo2lEIPn4-l",
        "outputId": "ef7bc9ae-6ef3-46cb-a2f8-43a5326655d7"
      },
      "source": [
        "model = pickle.load(open('image_model.p','rb'))"
      ],
      "execution_count": null,
      "outputs": [
        {
          "output_type": "stream",
          "text": [
            "time: 32.1 ms (started: 2021-05-22 14:29:07 +00:00)\n"
          ],
          "name": "stdout"
        }
      ]
    },
    {
      "cell_type": "code",
      "metadata": {
        "colab": {
          "base_uri": "https://localhost:8080/",
          "height": 338
        },
        "id": "6U3pqRngn6u5",
        "outputId": "b27c93c2-22fd-45de-a82d-cff2e3ad0f6c"
      },
      "source": [
        "flat_data = []\n",
        "url = input('Enter yor URL')\n",
        "img = imread(url)\n",
        "img_resized = resize(img,(150,150,3))\n",
        "flat_data.append(img_resized.flatten())\n",
        "flat_data = np.array(flat_data)\n",
        "print(img.shape)\n",
        "plt.imshow(img_resized)\n",
        "y_out = model.predict(flat_data)\n",
        "y_out = categories[y_out[0]]\n",
        "print(f'PREDICTED OUTPUT : {y_out}')"
      ],
      "execution_count": null,
      "outputs": [
        {
          "output_type": "stream",
          "text": [
            "Enter yor URLhttps://st1.bollywoodlife.com/wp-content/uploads/2019/01/Iron-Man-1.jpg\n",
            "(600, 600, 3)\n",
            "PREDICTED OUTPUT : iron man\n"
          ],
          "name": "stdout"
        },
        {
          "output_type": "display_data",
          "data": {
            "image/png": "[encoded data removed]",
            "text/plain": [
              "<Figure size 432x288 with 1 Axes>"
            ]
          },
          "metadata": {
            "tags": [],
            "needs_background": "light"
          }
        },
        {
          "output_type": "stream",
          "text": [
            "time: 5.08 s (started: 2021-05-22 14:56:32 +00:00)\n"
          ],
          "name": "stdout"
        }
      ]
    },
    {
      "cell_type": "code",
      "metadata": {
        "id": "KyD-OxUO1KIu"
      },
      "source": [
        ""
      ],
      "execution_count": null,
      "outputs": []
    }
  ]
}